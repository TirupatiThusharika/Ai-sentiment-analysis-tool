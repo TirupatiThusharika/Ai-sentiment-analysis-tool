{
 "cells": [
  {
   "cell_type": "code",
   "execution_count": null,
   "id": "53b61d26-78f3-4a5a-b276-c939009840fa",
   "metadata": {},
   "outputs": [],
   "source": [
    "import nltk\n",
    "from nltk.sentiment import SentimentIntensityAnalyzer\n",
    "import re\n",
    "import matplotlib.pyplot as plt\n",
    "import seaborn as sns\n",
    "nltk.download('vader_lexicon')\n",
    "\n",
    "sia = SentimentIntensityAnalyzer()\n",
    "\n",
    "def adjust_negations(text):\n",
    "    \"\"\"Reduces impact of 'not great' or 'not bad' by neutralizing them.\"\"\"\n",
    "    text = re.sub(r'\\bnot good\\b', 'neutral', text, flags=re.IGNORECASE)\n",
    "    text = re.sub(r'\\bnot bad\\b', 'neutral', text, flags=re.IGNORECASE)\n",
    "    text = re.sub(r'\\bnot great\\b', 'neutral', text, flags=re.IGNORECASE)\n",
    "    text = re.sub(r'\\bnot excellent\\b', 'neutral', text, flags=re.IGNORECASE)\n",
    "    text = re.sub(r'\\bnot terrible\\b', 'neutral', text, flags=re.IGNORECASE)\n",
    "    return text\n",
    "\n",
    "def analyze_sentiment(text):\n",
    "    \"\"\"Improved sentiment analysis using negation handling and better neutral detection.\"\"\"\n",
    "    text = adjust_negations(text) \n",
    "    sentiment_score = sia.polarity_scores(text)\n",
    "\n",
    "    pos_score = sentiment_score['pos']\n",
    "    neg_score = sentiment_score['neg']\n",
    "    neu_score = sentiment_score['neu']\n",
    "    compound_score = sentiment_score['compound']\n",
    "\n",
    "    print(f\"\\nDEBUG: Sentiment scores for '{text}' ➝ {sentiment_score}\")  \n",
    "\n",
    "    if abs(pos_score - neg_score) <= 0.15:\n",
    "        return \"Neutral 😐\"\n",
    "    if compound_score >= 0.3:\n",
    "        return \"Positive 😀\"\n",
    "    elif compound_score <= -0.3:\n",
    "        return \"Negative 😡\"\n",
    "    else:\n",
    "        return \"Neutral 😐\"\n",
    "sentiment_counts = {\"Positive 😀\": 0, \"Negative 😡\": 0, \"Neutral 😐\": 0}\n",
    "user_sentences = []  \n",
    "while True:\n",
    "    user_input = input(\"Enter a sentence (or type 'exit' to stop): \")\n",
    "    if user_input.lower() == \"exit\":\n",
    "        print(\"\\nGenerating Sentiment Analysis Report... 📊\")\n",
    "        break\n",
    "\n",
    "    sentiment = analyze_sentiment(user_input)\n",
    "    sentiment_counts[sentiment] += 1\n",
    "    user_sentences.append((user_input, sentiment))\n",
    "\n",
    "    print(f\"Sentiment: {sentiment}\\n\")\n",
    "plt.figure(figsize=(6, 4))\n",
    "sns.barplot(x=list(sentiment_counts.keys()), y=list(sentiment_counts.values()), palette=[\"green\", \"red\", \"gray\"])\n",
    "plt.title(\"Sentiment Analysis Results\")\n",
    "plt.xlabel(\"Sentiment Type\")\n",
    "plt.ylabel(\"Count\")\n",
    "plt.show(block=True)\n",
    "\n",
    "\n"
   ]
  },
  {
   "cell_type": "code",
   "execution_count": null,
   "id": "0e7baa31-f61a-4479-9c48-5c16f56c0b78",
   "metadata": {},
   "outputs": [],
   "source": []
  },
  {
   "cell_type": "code",
   "execution_count": null,
   "id": "cf1cc507-c941-4c97-88f4-a6638d42130d",
   "metadata": {},
   "outputs": [],
   "source": []
  }
 ],
 "metadata": {
  "kernelspec": {
   "display_name": "Python 3 (ipykernel)",
   "language": "python",
   "name": "python3"
  },
  "language_info": {
   "codemirror_mode": {
    "name": "ipython",
    "version": 3
   },
   "file_extension": ".py",
   "mimetype": "text/x-python",
   "name": "python",
   "nbconvert_exporter": "python",
   "pygments_lexer": "ipython3",
   "version": "3.11.7"
  }
 },
 "nbformat": 4,
 "nbformat_minor": 5
}
